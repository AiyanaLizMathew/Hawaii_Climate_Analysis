{
 "cells": [
  {
   "cell_type": "markdown",
   "metadata": {},
   "source": [
    "# Step 3 - Climate Analysis and Exploration\n",
    "\n",
    "You are now ready to use Python and SQLAlchemy to do basic climate analysis and data exploration on your new weather station tables. All of the following analysis should be completed using SQLAlchemy ORM queries, Pandas, and Matplotlib.\n",
    "\n",
    "- Create a Jupyter Notebook file called climate_analysis.ipynb and use it to complete your climate analysis and data exporation.\n",
    "\n",
    "- Choose a start date and end date for your trip. Make sure that your vacation range is approximately 3-15 days total.\n",
    "\n",
    "- Use SQLAlchemy create_engine to connect to your sqlite database.\n",
    "\n",
    "- Use SQLAlchemy automap_base() to reflect your tables into classes and save a reference to those classes called Station and Measurement."
   ]
  },
  {
   "cell_type": "code",
   "execution_count": 1,
   "metadata": {
    "collapsed": true
   },
   "outputs": [],
   "source": [
    "# Import Dependencies\n",
    "\n",
    "# Import Sqlalchemy\n",
    "import sqlalchemy\n",
    "# Import the column types necessary that is being used in the database\n",
    "from sqlalchemy import Column, Integer, String, Float\n",
    "\n",
    "# Import automap base\n",
    "from sqlalchemy.ext.automap import automap_base\n",
    "# Import Session\n",
    "from sqlalchemy.orm import Session\n",
    "# Imports the method used for connecting and inspecting DB\n",
    "from sqlalchemy import create_engine,inspect\n",
    "\n",
    "# Import Pandas\n",
    "import pandas as pd\n",
    "# Import numpy\n",
    "import numpy as np\n",
    "\n",
    "# Import matplotlib,pyplot and the seaborn style in matplotlib\n",
    "import matplotlib\n",
    "from matplotlib import style\n",
    "style.use('seaborn')\n",
    "import matplotlib.pyplot as plt"
   ]
  },
  {
   "cell_type": "code",
   "execution_count": 2,
   "metadata": {
    "collapsed": true
   },
   "outputs": [],
   "source": [
    "# Create the hawaii sqlite engine created in database_engineering.ipynb file\n",
    "engine=create_engine(\"sqlite:///hawaii.sqlite\")\n",
    "# Declare the base as automap_base\n",
    "Base = automap_base()\n",
    "# Use the Base class to reflect the database tables\n",
    "Base.prepare(engine, reflect=True)"
   ]
  },
  {
   "cell_type": "code",
   "execution_count": 3,
   "metadata": {},
   "outputs": [
    {
     "data": {
      "text/plain": [
       "['Measurements', 'Stations']"
      ]
     },
     "execution_count": 3,
     "metadata": {},
     "output_type": "execute_result"
    }
   ],
   "source": [
    "# View all the classes mapped to the Base\n",
    "Base.classes.keys()"
   ]
  },
  {
   "cell_type": "code",
   "execution_count": 4,
   "metadata": {
    "collapsed": true
   },
   "outputs": [],
   "source": [
    "# Save references to the table\n",
    "Stations = Base.classes.Stations\n",
    "Measurements = Base.classes.Measurements"
   ]
  },
  {
   "cell_type": "markdown",
   "metadata": {
    "collapsed": true
   },
   "source": [
    "## Precipitation Analysis\n",
    "\n",
    "- Design a query to retrieve the last 12 months of precipitation data.\n",
    "- Select only the date and prcp values.\n",
    "- Load the query results into a Pandas DataFrame and set the index to the date column.\n",
    "- Plot the results using the DataFrame plot method."
   ]
  },
  {
   "cell_type": "code",
   "execution_count": 5,
   "metadata": {
    "collapsed": true
   },
   "outputs": [],
   "source": [
    "# Begin Session to query\n",
    "session = Session(engine)\n",
    "import datetime"
   ]
  },
  {
   "cell_type": "code",
   "execution_count": 6,
   "metadata": {},
   "outputs": [
    {
     "name": "stdout",
     "output_type": "stream",
     "text": [
      "Start Date:2016-08-23\n",
      "End Date:2017-08-23\n"
     ]
    }
   ],
   "source": [
    "# Retrieve the start and end dates\n",
    "# Query to retrieve the last date in Measurement DB\n",
    "last_date = session.query(Measurements.Date).order_by(Measurements.Date.desc()).first()\n",
    "# Converting end date into datetime format\n",
    "end_date = datetime.datetime.strptime(last_date[0], '%Y-%m-%d')\n",
    "\n",
    "# Calculating the first date based on the end date\n",
    "first_date=\"%d-%d-%d\"%(end_date.year-1,end_date.month,end_date.day)\n",
    "# Converting the start date into datetime format\n",
    "start_date=datetime.datetime.strptime(first_date, '%Y-%m-%d').strftime(\"%Y-%m-%d\")\n",
    "\n",
    "# Converting the end date into neccessary datetime format\n",
    "end_date=end_date.strftime(\"%Y-%m-%d\")\n",
    "\n",
    "print(\"Start Date:%s\\nEnd Date:%s\"%(start_date,end_date))"
   ]
  },
  {
   "cell_type": "code",
   "execution_count": 7,
   "metadata": {
    "collapsed": true
   },
   "outputs": [],
   "source": [
    "# Select only the date and prcp values for the last year\n",
    "results=session.query(Measurements.Date,Measurements.Prcp).\\\n",
    "        filter(Measurements.Date>=start_date, Measurements.Date<=end_date).\\\n",
    "        order_by(Measurements.Date.desc()).all()\n",
    "\n",
    "# Converting the results into a dataframe\n",
    "Precipitation_DF=pd.DataFrame(results)\n",
    "\n",
    "# Setting the Date column as Index\n",
    "Precipitation_DF.set_index(\"Date\",inplace=True)"
   ]
  },
  {
   "cell_type": "code",
   "execution_count": 8,
   "metadata": {},
   "outputs": [
    {
     "data": {
      "text/html": [
       "<div>\n",
       "<style>\n",
       "    .dataframe thead tr:only-child th {\n",
       "        text-align: right;\n",
       "    }\n",
       "\n",
       "    .dataframe thead th {\n",
       "        text-align: left;\n",
       "    }\n",
       "\n",
       "    .dataframe tbody tr th {\n",
       "        vertical-align: top;\n",
       "    }\n",
       "</style>\n",
       "<table border=\"1\" class=\"dataframe\">\n",
       "  <thead>\n",
       "    <tr style=\"text-align: right;\">\n",
       "      <th></th>\n",
       "      <th>Prcp</th>\n",
       "    </tr>\n",
       "    <tr>\n",
       "      <th>Date</th>\n",
       "      <th></th>\n",
       "    </tr>\n",
       "  </thead>\n",
       "  <tbody>\n",
       "    <tr>\n",
       "      <th>2017-08-23</th>\n",
       "      <td>0.000000</td>\n",
       "    </tr>\n",
       "    <tr>\n",
       "      <th>2017-08-23</th>\n",
       "      <td>0.000000</td>\n",
       "    </tr>\n",
       "    <tr>\n",
       "      <th>2017-08-23</th>\n",
       "      <td>0.080000</td>\n",
       "    </tr>\n",
       "    <tr>\n",
       "      <th>2017-08-23</th>\n",
       "      <td>0.450000</td>\n",
       "    </tr>\n",
       "    <tr>\n",
       "      <th>2017-08-22</th>\n",
       "      <td>0.000000</td>\n",
       "    </tr>\n",
       "    <tr>\n",
       "      <th>2017-08-22</th>\n",
       "      <td>0.000000</td>\n",
       "    </tr>\n",
       "    <tr>\n",
       "      <th>2017-08-22</th>\n",
       "      <td>0.500000</td>\n",
       "    </tr>\n",
       "    <tr>\n",
       "      <th>2017-08-21</th>\n",
       "      <td>0.000000</td>\n",
       "    </tr>\n",
       "    <tr>\n",
       "      <th>2017-08-21</th>\n",
       "      <td>0.020000</td>\n",
       "    </tr>\n",
       "    <tr>\n",
       "      <th>2017-08-21</th>\n",
       "      <td>0.160644</td>\n",
       "    </tr>\n",
       "  </tbody>\n",
       "</table>\n",
       "</div>"
      ],
      "text/plain": [
       "                Prcp\n",
       "Date                \n",
       "2017-08-23  0.000000\n",
       "2017-08-23  0.000000\n",
       "2017-08-23  0.080000\n",
       "2017-08-23  0.450000\n",
       "2017-08-22  0.000000\n",
       "2017-08-22  0.000000\n",
       "2017-08-22  0.500000\n",
       "2017-08-21  0.000000\n",
       "2017-08-21  0.020000\n",
       "2017-08-21  0.160644"
      ]
     },
     "execution_count": 8,
     "metadata": {},
     "output_type": "execute_result"
    }
   ],
   "source": [
    "# View the precipitation table\n",
    "Precipitation_DF.head(10)"
   ]
  },
  {
   "cell_type": "code",
   "execution_count": 9,
   "metadata": {},
   "outputs": [
    {
     "data": {
      "image/png": "[encoded data removed]",
      "text/plain": [
       "<matplotlib.figure.Figure at 0x20b8aa76eb8>"
      ]
     },
     "metadata": {},
     "output_type": "display_data"
    }
   ],
   "source": [
    "# Plot the results using DataFrame.plot\n",
    "Precipitation_DF.plot(rot=45,title=\"Precipitation from %s to %s\"%(start_date,end_date),figsize=(8,5),grid=None,colormap=\"PuOr_r\")\n",
    "plt.show()"
   ]
  },
  {
   "cell_type": "code",
   "execution_count": 10,
   "metadata": {},
   "outputs": [
    {
     "data": {
      "text/html": [
       "<div>\n",
       "<style>\n",
       "    .dataframe thead tr:only-child th {\n",
       "        text-align: right;\n",
       "    }\n",
       "\n",
       "    .dataframe thead th {\n",
       "        text-align: left;\n",
       "    }\n",
       "\n",
       "    .dataframe tbody tr th {\n",
       "        vertical-align: top;\n",
       "    }\n",
       "</style>\n",
       "<table border=\"1\" class=\"dataframe\">\n",
       "  <thead>\n",
       "    <tr style=\"text-align: right;\">\n",
       "      <th></th>\n",
       "      <th>Prcp</th>\n",
       "    </tr>\n",
       "  </thead>\n",
       "  <tbody>\n",
       "    <tr>\n",
       "      <th>count</th>\n",
       "      <td>2230.000000</td>\n",
       "    </tr>\n",
       "    <tr>\n",
       "      <th>mean</th>\n",
       "      <td>0.175720</td>\n",
       "    </tr>\n",
       "    <tr>\n",
       "      <th>std</th>\n",
       "      <td>0.439063</td>\n",
       "    </tr>\n",
       "    <tr>\n",
       "      <th>min</th>\n",
       "      <td>0.000000</td>\n",
       "    </tr>\n",
       "    <tr>\n",
       "      <th>25%</th>\n",
       "      <td>0.000000</td>\n",
       "    </tr>\n",
       "    <tr>\n",
       "      <th>50%</th>\n",
       "      <td>0.030000</td>\n",
       "    </tr>\n",
       "    <tr>\n",
       "      <th>75%</th>\n",
       "      <td>0.160644</td>\n",
       "    </tr>\n",
       "    <tr>\n",
       "      <th>max</th>\n",
       "      <td>6.700000</td>\n",
       "    </tr>\n",
       "  </tbody>\n",
       "</table>\n",
       "</div>"
      ],
      "text/plain": [
       "              Prcp\n",
       "count  2230.000000\n",
       "mean      0.175720\n",
       "std       0.439063\n",
       "min       0.000000\n",
       "25%       0.000000\n",
       "50%       0.030000\n",
       "75%       0.160644\n",
       "max       6.700000"
      ]
     },
     "execution_count": 10,
     "metadata": {},
     "output_type": "execute_result"
    }
   ],
   "source": [
    "# Summary statistics of Precipitation Date\n",
    "Precipitation_DF.describe()"
   ]
  },
  {
   "cell_type": "markdown",
   "metadata": {},
   "source": [
    "## Station Analysis\n",
    "\n",
    "- Design a query to calculate the total number of stations.\n",
    "- Design a query to find the most active stations.\n",
    "    - List the stations and observation counts in descending order\n",
    "    - Which station has the highest number of observations?\n",
    "- Design a query to retrieve the last 12 months of temperature observation data (tobs).\n",
    "    - Filter by the station with the highest number of observations.\n",
    "    - Plot the results as a histogram with bins=12."
   ]
  },
  {
   "cell_type": "code",
   "execution_count": 11,
   "metadata": {
    "collapsed": true
   },
   "outputs": [],
   "source": [
    "# Import func from sqlalchemy to count\n",
    "from sqlalchemy import func"
   ]
  },
  {
   "cell_type": "code",
   "execution_count": 12,
   "metadata": {},
   "outputs": [
    {
     "name": "stdout",
     "output_type": "stream",
     "text": [
      "Count of Stations: 9\n"
     ]
    }
   ],
   "source": [
    "# Query to find the count of stations \n",
    "results=session.query(func.count(Stations.Index)).all()\n",
    "station_count=results[0][0]\n",
    "print(\"Count of Stations: %d\"%station_count)"
   ]
  },
  {
   "cell_type": "code",
   "execution_count": 13,
   "metadata": {},
   "outputs": [
    {
     "name": "stdout",
     "output_type": "stream",
     "text": [
      "Rank\tStation\t\tObservations\n",
      "1\tUSC00519281\t2772\n",
      "2\tUSC00519397\t2724\n",
      "3\tUSC00513117\t2709\n",
      "4\tUSC00519523\t2669\n",
      "5\tUSC00516128\t2612\n",
      "6\tUSC00514830\t2202\n",
      "7\tUSC00511918\t1979\n",
      "8\tUSC00517948\t1372\n",
      "9\tUSC00518838\t511\n"
     ]
    }
   ],
   "source": [
    "# Query to count the stations and observation counts of each active station\n",
    "results=session.query(Measurements.Station,func.count(Measurements.Tobs)).group_by(Measurements.Station).\\\n",
    "                      order_by(func.count(Measurements.Tobs).desc()).all()\n",
    "\n",
    "# List the stations and observation counts in descending order\n",
    "print(\"Rank\\tStation\\t\\tObservations\")\n",
    "i=1\n",
    "for result in results:\n",
    "    print(\"%d\\t%s\\t%d\"%(i,result[0],result[1]))\n",
    "    i=i+1"
   ]
  },
  {
   "cell_type": "code",
   "execution_count": 14,
   "metadata": {},
   "outputs": [
    {
     "name": "stdout",
     "output_type": "stream",
     "text": [
      "Station with Highest Number of Observation\n",
      "\n",
      "\tStation:\t\tUSC00519281\n",
      "\tNumber of Observation:\t2772\n"
     ]
    }
   ],
   "source": [
    "# Station with highest number of observations\n",
    "print(\"Station with Highest Number of Observation\\n\\n\\tStation:\\t\\t%s\\n\\tNumber of Observation:\\t%d\"\\\n",
    "      %(results[0][0],results[0][1]))\n",
    "# Storing the Station with the most number of observations\n",
    "station_mostobs=results[0][0]"
   ]
  },
  {
   "cell_type": "code",
   "execution_count": 15,
   "metadata": {
    "collapsed": true
   },
   "outputs": [],
   "source": [
    "# Query to retrieve the last 12 months of Temperature Data\n",
    "# Use the start date and end date calculated before.\n",
    "results=session.query(Measurements.Station,Measurements.Date,Measurements.Tobs).\\\n",
    "        filter(Measurements.Date>=start_date, Measurements.Date<=end_date, Measurements.Station == station_mostobs).\\\n",
    "        order_by(Measurements.Date.desc()).all()"
   ]
  },
  {
   "cell_type": "code",
   "execution_count": 16,
   "metadata": {},
   "outputs": [
    {
     "data": {
      "text/html": [
       "<div>\n",
       "<style>\n",
       "    .dataframe thead tr:only-child th {\n",
       "        text-align: right;\n",
       "    }\n",
       "\n",
       "    .dataframe thead th {\n",
       "        text-align: left;\n",
       "    }\n",
       "\n",
       "    .dataframe tbody tr th {\n",
       "        vertical-align: top;\n",
       "    }\n",
       "</style>\n",
       "<table border=\"1\" class=\"dataframe\">\n",
       "  <thead>\n",
       "    <tr style=\"text-align: right;\">\n",
       "      <th></th>\n",
       "      <th>Station</th>\n",
       "      <th>Date</th>\n",
       "      <th>Tobs</th>\n",
       "    </tr>\n",
       "  </thead>\n",
       "  <tbody>\n",
       "    <tr>\n",
       "      <th>0</th>\n",
       "      <td>USC00519281</td>\n",
       "      <td>2017-08-18</td>\n",
       "      <td>79</td>\n",
       "    </tr>\n",
       "    <tr>\n",
       "      <th>1</th>\n",
       "      <td>USC00519281</td>\n",
       "      <td>2017-08-17</td>\n",
       "      <td>76</td>\n",
       "    </tr>\n",
       "    <tr>\n",
       "      <th>2</th>\n",
       "      <td>USC00519281</td>\n",
       "      <td>2017-08-16</td>\n",
       "      <td>76</td>\n",
       "    </tr>\n",
       "    <tr>\n",
       "      <th>3</th>\n",
       "      <td>USC00519281</td>\n",
       "      <td>2017-08-15</td>\n",
       "      <td>77</td>\n",
       "    </tr>\n",
       "    <tr>\n",
       "      <th>4</th>\n",
       "      <td>USC00519281</td>\n",
       "      <td>2017-08-14</td>\n",
       "      <td>77</td>\n",
       "    </tr>\n",
       "  </tbody>\n",
       "</table>\n",
       "</div>"
      ],
      "text/plain": [
       "       Station        Date  Tobs\n",
       "0  USC00519281  2017-08-18    79\n",
       "1  USC00519281  2017-08-17    76\n",
       "2  USC00519281  2017-08-16    76\n",
       "3  USC00519281  2017-08-15    77\n",
       "4  USC00519281  2017-08-14    77"
      ]
     },
     "execution_count": 16,
     "metadata": {},
     "output_type": "execute_result"
    }
   ],
   "source": [
    "# Converting the results into a dataframe\n",
    "Temperature_DF=pd.DataFrame(results)\n",
    "\n",
    "# View the Temperature DataFrame\n",
    "Temperature_DF.head()"
   ]
  },
  {
   "cell_type": "code",
   "execution_count": 17,
   "metadata": {},
   "outputs": [
    {
     "data": {
      "image/png": "[encoded data removed]",
      "text/plain": [
       "<matplotlib.figure.Figure at 0x20b8c000390>"
      ]
     },
     "metadata": {},
     "output_type": "display_data"
    }
   ],
   "source": [
    "# Plot the histogram\n",
    "Temperature_DF.plot.hist(by=\"Tobs\",bins=12,title=\"Observed Temperature from %s to %s\"%(start_date,end_date))\n",
    "plt.xlabel(\"Temperature (°F)\")\n",
    "plt.ylabel(\"Frequency of Temperature\")\n",
    "plt.show()"
   ]
  },
  {
   "cell_type": "markdown",
   "metadata": {},
   "source": [
    "## Temperature Analysis\n",
    "\n",
    "- Write a function called calc_temps that will accept a start date and end date in the format %Y-%m-%d and return the minimum, average, and maximum temperatures for that range of dates.\n",
    "- Use the calc_temps function to calculate the min, avg, and max temperatures for your trip using the matching dates from the previous year (i.e. use \"2017-01-01\" if your trip start date was \"2018-01-01\")\n",
    "- Plot the min, avg, and max temperature from your previous query as a bar chart.\n",
    "    - Use the average temperature as the bar height.\n",
    "    - Use the peak-to-peak (tmax-tmin) value as the y error bar (yerr)."
   ]
  },
  {
   "cell_type": "code",
   "execution_count": 18,
   "metadata": {},
   "outputs": [
    {
     "name": "stdout",
     "output_type": "stream",
     "text": [
      "Enter your trip start date(YYYY-MM-DD): 2017-01-10\n",
      "Enter your trip end date(YYYY-MM-DD): 2017-01-24\n",
      "\n",
      "Temperature Summary from 2017-01-10 to 2017-01-24\n",
      "--------------------------------------------------\n",
      "  Minimum Temperature: 62°F\n",
      "  Average Temperature: 70°F\n",
      "  Maximum Temperature: 81°F\n"
     ]
    }
   ],
   "source": [
    "start_date = input(\"Enter your trip start date(YYYY-MM-DD): \")\n",
    "end_date = input(\"Enter your trip end date(YYYY-MM-DD): \")\n",
    "\n",
    "def calc_temps(start_date,end_date):\n",
    "    results=session.query(func.min(Measurements.Tobs),func.avg(Measurements.Tobs),func.max(Measurements.Tobs)).\\\n",
    "        filter(Measurements.Date>=start_date, Measurements.Date<=end_date).all()\n",
    "    Tmin = results[0][0]\n",
    "    Tavg = results[0][1]\n",
    "    Tmax = results[0][2]\n",
    "    print(\"\\nTemperature Summary from %s to %s\"%(start_date,end_date))\n",
    "    print(\"--------------------------------------------------\")\n",
    "    print(\"  Minimum Temperature: %d°F\"%Tmin)\n",
    "    print(\"  Average Temperature: %d°F\"%Tavg)\n",
    "    print(\"  Maximum Temperature: %d°F\"%Tmax)\n",
    "    return Tmin, Tavg, Tmax\n",
    "temperature_results=calc_temps(start_date,end_date)"
   ]
  },
  {
   "cell_type": "code",
   "execution_count": 19,
   "metadata": {},
   "outputs": [
    {
     "data": {
      "image/png": "[encoded data removed]",
      "text/plain": [
       "<matplotlib.figure.Figure at 0x20b8c0a4cc0>"
      ]
     },
     "metadata": {},
     "output_type": "display_data"
    }
   ],
   "source": [
    "# Plot bar graph\n",
    "plt.figure(figsize=(2,10))\n",
    "error= temperature_results[2]-temperature_results[0]\n",
    "plt.bar(0,temperature_results[1],yerr=error,color=\"coral\")\n",
    "plt.ylim(0,102)\n",
    "plt.xticks([0])\n",
    "plt.ylabel(\"Temp (°F)\")\n",
    "plt.title(\"Trip Avg Temp\")\n",
    "plt.grid(b=True,which=\"minor\",axis=\"y\")\n",
    "plt.show()"
   ]
  },
  {
   "cell_type": "markdown",
   "metadata": {},
   "source": [
    "## Optional Recommended Analysis\n",
    "\n",
    "### Analysis 1\n",
    "- The following are optional challenge queries. These are highly recommended to attempt, but not required for the homework.\n",
    "    - Calculate the rainfall per weather station using the previous year's matching dates."
   ]
  },
  {
   "cell_type": "code",
   "execution_count": 20,
   "metadata": {},
   "outputs": [
    {
     "name": "stdout",
     "output_type": "stream",
     "text": [
      "Enter your trip start date(YYYY-MM-DD): 2018-06-08\n",
      "Enter your trip end date(YYYY-MM-DD): 2018-06-15\n"
     ]
    },
    {
     "data": {
      "text/html": [
       "<div>\n",
       "<style>\n",
       "    .dataframe thead tr:only-child th {\n",
       "        text-align: right;\n",
       "    }\n",
       "\n",
       "    .dataframe thead th {\n",
       "        text-align: left;\n",
       "    }\n",
       "\n",
       "    .dataframe tbody tr th {\n",
       "        vertical-align: top;\n",
       "    }\n",
       "</style>\n",
       "<table border=\"1\" class=\"dataframe\">\n",
       "  <thead>\n",
       "    <tr style=\"text-align: right;\">\n",
       "      <th></th>\n",
       "      <th>Rainfall</th>\n",
       "    </tr>\n",
       "    <tr>\n",
       "      <th>Station</th>\n",
       "      <th></th>\n",
       "    </tr>\n",
       "  </thead>\n",
       "  <tbody>\n",
       "    <tr>\n",
       "      <th>USC00513117</th>\n",
       "      <td>1.480000</td>\n",
       "    </tr>\n",
       "    <tr>\n",
       "      <th>USC00514830</th>\n",
       "      <td>1.640000</td>\n",
       "    </tr>\n",
       "    <tr>\n",
       "      <th>USC00516128</th>\n",
       "      <td>4.820644</td>\n",
       "    </tr>\n",
       "    <tr>\n",
       "      <th>USC00517948</th>\n",
       "      <td>0.803218</td>\n",
       "    </tr>\n",
       "    <tr>\n",
       "      <th>USC00519281</th>\n",
       "      <td>2.630000</td>\n",
       "    </tr>\n",
       "    <tr>\n",
       "      <th>USC00519397</th>\n",
       "      <td>0.140000</td>\n",
       "    </tr>\n",
       "    <tr>\n",
       "      <th>USC00519523</th>\n",
       "      <td>0.610000</td>\n",
       "    </tr>\n",
       "  </tbody>\n",
       "</table>\n",
       "</div>"
      ],
      "text/plain": [
       "             Rainfall\n",
       "Station              \n",
       "USC00513117  1.480000\n",
       "USC00514830  1.640000\n",
       "USC00516128  4.820644\n",
       "USC00517948  0.803218\n",
       "USC00519281  2.630000\n",
       "USC00519397  0.140000\n",
       "USC00519523  0.610000"
      ]
     },
     "execution_count": 20,
     "metadata": {},
     "output_type": "execute_result"
    }
   ],
   "source": [
    "# Rainfall per weather station using the previous year's matching dates\n",
    "\n",
    "# Input the start date and end date\n",
    "start_date = input(\"Enter your trip start date(YYYY-MM-DD): \")\n",
    "end_date = input(\"Enter your trip end date(YYYY-MM-DD): \")\n",
    "\n",
    "# Convert date into datetime object\n",
    "start_date = datetime.datetime.strptime(start_date, \"%Y-%m-%d\")\n",
    "end_date = datetime.datetime.strptime(end_date, \"%Y-%m-%d\")\n",
    "\n",
    "# Convert the start date and end date to last years dates\n",
    "ly_start_date = (start_date-datetime.timedelta(365)).strftime(\"%Y-%m-%d\")\n",
    "ly_end_date = (end_date-datetime.timedelta(365)).strftime(\"%Y-%m-%d\")\n",
    "\n",
    "\n",
    "# Query to find the rainfall for each statition\n",
    "query = session.query(Measurements.Station, func.sum(Measurements.Prcp)).\\\n",
    "          filter(Measurements.Date >= ly_start_date, Measurements.Date <= ly_end_date).\\\n",
    "          group_by(Measurements.Station).\\\n",
    "          order_by(Measurements.Station)\n",
    "\n",
    "# Store the results in a dataframe\n",
    "rainfall_per_station = pd.read_sql(query.statement, query.session.bind)\n",
    "rainfall_per_station.set_index(\"Station\",inplace=True)\n",
    "rainfall_per_station = rainfall_per_station.rename(columns={\"sum_1\":\"Rainfall\"})\n",
    "# View the result\n",
    "rainfall_per_station\n"
   ]
  },
  {
   "cell_type": "markdown",
   "metadata": {},
   "source": [
    "### Analysis 2\n",
    "- Calculate the daily normals. Normals are the averages for min, avg, and max temperatures.\n",
    "    - Create a function called daily_normals that will calculate the daily normals for a specific date. This date string will be in the format %m-%d. Be sure to use all historic tobs that match that date string.\n",
    "    - Create a list of dates for your trip in the format %m-%d. Use the daily_normals function to calculate the normals for each date string and append the results to a list.\n",
    "    - Load the list of daily normals into a Pandas DataFrame and set the index equal to the date.\n",
    "    - Use Pandas to plot an area plot (stacked=False) for the daily normals."
   ]
  },
  {
   "cell_type": "code",
   "execution_count": 21,
   "metadata": {
    "collapsed": true
   },
   "outputs": [],
   "source": [
    "# List to hold the dates of the trip\n",
    "date_list=[\"01-01\",\"01-02\",\"01-03\",\"01-04\",\"01-05\",\"01-06\",\"01-07\"]\n",
    "# Intialize a list to store the results of the list\n",
    "daily_results=[]"
   ]
  },
  {
   "cell_type": "code",
   "execution_count": 22,
   "metadata": {
    "collapsed": true
   },
   "outputs": [],
   "source": [
    "# Function to calculate the min,avg and max for a date and return those values\n",
    "def daily_normals(daily_date):\n",
    "    results= session.query(func.min(Measurements.Tobs),func.avg(Measurements.Tobs),func.max(Measurements.Tobs))\\\n",
    "            .filter(Measurements.Date.like(\"%-\"+daily_date)).all()\n",
    "    return results\n",
    "\n",
    "# For each date in the date_list calculate the min,avg and max and store to a result list that also has the date\n",
    "for date in date_list:\n",
    "    date_result=daily_normals(date)\n",
    "    daily_results.append([\"2018-\"+date,date_result[0][0],date_result[0][1],date_result[0][2]])"
   ]
  },
  {
   "cell_type": "code",
   "execution_count": 23,
   "metadata": {},
   "outputs": [
    {
     "data": {
      "text/html": [
       "<div>\n",
       "<style>\n",
       "    .dataframe thead tr:only-child th {\n",
       "        text-align: right;\n",
       "    }\n",
       "\n",
       "    .dataframe thead th {\n",
       "        text-align: left;\n",
       "    }\n",
       "\n",
       "    .dataframe tbody tr th {\n",
       "        vertical-align: top;\n",
       "    }\n",
       "</style>\n",
       "<table border=\"1\" class=\"dataframe\">\n",
       "  <thead>\n",
       "    <tr style=\"text-align: right;\">\n",
       "      <th></th>\n",
       "      <th>Tmin</th>\n",
       "      <th>Tavg</th>\n",
       "      <th>Tmax</th>\n",
       "    </tr>\n",
       "    <tr>\n",
       "      <th>Date</th>\n",
       "      <th></th>\n",
       "      <th></th>\n",
       "      <th></th>\n",
       "    </tr>\n",
       "  </thead>\n",
       "  <tbody>\n",
       "    <tr>\n",
       "      <th>2018-01-01</th>\n",
       "      <td>62</td>\n",
       "      <td>69.153846</td>\n",
       "      <td>77</td>\n",
       "    </tr>\n",
       "    <tr>\n",
       "      <th>2018-01-02</th>\n",
       "      <td>60</td>\n",
       "      <td>69.396226</td>\n",
       "      <td>77</td>\n",
       "    </tr>\n",
       "    <tr>\n",
       "      <th>2018-01-03</th>\n",
       "      <td>62</td>\n",
       "      <td>68.909091</td>\n",
       "      <td>77</td>\n",
       "    </tr>\n",
       "    <tr>\n",
       "      <th>2018-01-04</th>\n",
       "      <td>58</td>\n",
       "      <td>70.000000</td>\n",
       "      <td>76</td>\n",
       "    </tr>\n",
       "    <tr>\n",
       "      <th>2018-01-05</th>\n",
       "      <td>56</td>\n",
       "      <td>67.964286</td>\n",
       "      <td>76</td>\n",
       "    </tr>\n",
       "  </tbody>\n",
       "</table>\n",
       "</div>"
      ],
      "text/plain": [
       "            Tmin       Tavg  Tmax\n",
       "Date                             \n",
       "2018-01-01    62  69.153846    77\n",
       "2018-01-02    60  69.396226    77\n",
       "2018-01-03    62  68.909091    77\n",
       "2018-01-04    58  70.000000    76\n",
       "2018-01-05    56  67.964286    76"
      ]
     },
     "execution_count": 23,
     "metadata": {},
     "output_type": "execute_result"
    }
   ],
   "source": [
    "# Convert the list into a DaataFrame\n",
    "Daily_Normals_DF=pd.DataFrame(daily_results)\n",
    "# Rename the columns of the DataFrame\n",
    "Daily_Normals_DF = Daily_Normals_DF.rename(columns={0:\"Date\", 1:\"Tmin\", 2:\"Tavg\", 3:\"Tmax\"})\n",
    "# Set the index as Date for the Dataframe\n",
    "Daily_Normals_DF.set_index(\"Date\",inplace=True)\n",
    "\n",
    "# View the dataframe\n",
    "Daily_Normals_DF.head()"
   ]
  },
  {
   "cell_type": "code",
   "execution_count": 24,
   "metadata": {},
   "outputs": [
    {
     "data": {
      "image/png": "[encoded data removed]",
      "text/plain": [
       "<matplotlib.figure.Figure at 0x20b8c0bf828>"
      ]
     },
     "metadata": {},
     "output_type": "display_data"
    }
   ],
   "source": [
    "Daily_Normals_DF.plot(kind='area', stacked=False, alpha=0.5,  colormap='Set1', rot=45,\\\n",
    "                     title= \"Daily Normal Temperature(°F)\")\n",
    "plt.ylabel(\"Temp (°F)\")\n",
    "plt.show()"
   ]
  }
 ],
 "metadata": {
  "kernelspec": {
   "display_name": "Python 3",
   "language": "python",
   "name": "python3"
  },
  "language_info": {
   "codemirror_mode": {
    "name": "ipython",
    "version": 3
   },
   "file_extension": ".py",
   "mimetype": "text/x-python",
   "name": "python",
   "nbconvert_exporter": "python",
   "pygments_lexer": "ipython3",
   "version": "3.6.3"
  }
 },
 "nbformat": 4,
 "nbformat_minor": 2
}
